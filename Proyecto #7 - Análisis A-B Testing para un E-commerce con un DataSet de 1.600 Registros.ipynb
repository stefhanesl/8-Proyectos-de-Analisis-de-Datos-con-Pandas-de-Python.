{
 "cells": [
  {
   "cell_type": "markdown",
   "metadata": {},
   "source": [
    "# Proyecto #7 - Análisis A/B Testing para un E-commerce con un DataSet de 1.600 Registros"
   ]
  },
  {
   "cell_type": "markdown",
   "metadata": {},
   "source": [
    "Nuestra tienda de zapatos favorita en línea, ShoeFly.com está realizando un A/B testing. Tienen dos versiones diferentes de un anuncio, que han colocado en correos electrónicos, así como en banners en Facebook, Twitter y Google. Quieren saber cómo se están desempeñando los dos anuncios en cada una de las diferentes plataformas cada día de la semana. Ayúdelos a analizar los datos usando medidas agregadas."
   ]
  },
  {
   "cell_type": "markdown",
   "metadata": {},
   "source": [
    "### Análisis de las fuentes de anuncios\n",
    "\n",
    "1. Examine las primeras filas de `ad_clicks`."
   ]
  },
  {
   "cell_type": "code",
   "execution_count": 3,
   "metadata": {},
   "outputs": [],
   "source": [
    "import pandas as pd"
   ]
  },
  {
   "cell_type": "code",
   "execution_count": 4,
   "metadata": {},
   "outputs": [
    {
     "name": "stdout",
     "output_type": "stream",
     "text": [
      "                                user_id utm_source           day  \\\n",
      "0  008b7c6c-7272-471e-b90e-930d548bd8d7     google  6 - Saturday   \n",
      "1  009abb94-5e14-4b6c-bb1c-4f4df7aa7557   facebook    7 - Sunday   \n",
      "2  00f5d532-ed58-4570-b6d2-768df5f41aed    twitter   2 - Tuesday   \n",
      "3  011adc64-0f44-4fd9-a0bb-f1506d2ad439     google   2 - Tuesday   \n",
      "4  012137e6-7ae7-4649-af68-205b4702169c   facebook    7 - Sunday   \n",
      "\n",
      "  ad_click_timestamp experimental_group  \n",
      "0               7:18                  A  \n",
      "1                NaN                  B  \n",
      "2                NaN                  A  \n",
      "3                NaN                  B  \n",
      "4                NaN                  B  \n"
     ]
    }
   ],
   "source": [
    "clicks = pd.read_csv('ad_clicks.csv')\n",
    "print(clicks.head())"
   ]
  },
  {
   "cell_type": "markdown",
   "metadata": {},
   "source": [
    "2. Su administrador desea saber qué plataforma publicitaria le está dando más visitas.\n",
    "¿Cuántas vistas (es decir, filas de la tabla) provienen de cada fuente `utm_source`?"
   ]
  },
  {
   "cell_type": "code",
   "execution_count": 6,
   "metadata": {},
   "outputs": [
    {
     "name": "stdout",
     "output_type": "stream",
     "text": [
      "  utm_source  user_id  day  ad_click_timestamp  experimental_group\n",
      "0      email      255  255                  80                 255\n",
      "1   facebook      504  504                 180                 504\n",
      "2     google      680  680                 239                 680\n",
      "3    twitter      215  215                  66                 215\n"
     ]
    }
   ],
   "source": [
    "source_count = clicks.groupby('utm_source').count().reset_index()\n",
    "print(source_count)"
   ]
  },
  {
   "cell_type": "markdown",
   "metadata": {},
   "source": [
    "3. Si la columna `ad_click_timestamp` es not null, entonces alguien hizo clic en el anuncio que se mostró.\n",
    "Cree una nueva columna llamada `is_click`, que es `True` si `ad_click_timestamp` es not null y `False` de otra manera."
   ]
  },
  {
   "cell_type": "code",
   "execution_count": 12,
   "metadata": {},
   "outputs": [
    {
     "name": "stdout",
     "output_type": "stream",
     "text": [
      "                                user_id utm_source           day  \\\n",
      "0  008b7c6c-7272-471e-b90e-930d548bd8d7     google  6 - Saturday   \n",
      "1  009abb94-5e14-4b6c-bb1c-4f4df7aa7557   facebook    7 - Sunday   \n",
      "2  00f5d532-ed58-4570-b6d2-768df5f41aed    twitter   2 - Tuesday   \n",
      "3  011adc64-0f44-4fd9-a0bb-f1506d2ad439     google   2 - Tuesday   \n",
      "4  012137e6-7ae7-4649-af68-205b4702169c   facebook    7 - Sunday   \n",
      "\n",
      "  ad_click_timestamp experimental_group  is_click  \n",
      "0               7:18                  A     False  \n",
      "1                NaN                  B      True  \n",
      "2                NaN                  A      True  \n",
      "3                NaN                  B      True  \n",
      "4                NaN                  B      True  \n"
     ]
    }
   ],
   "source": [
    "clicks['is_click'] = clicks.ad_click_timestamp.isnull()\n",
    "print(clicks.head())"
   ]
  },
  {
   "cell_type": "markdown",
   "metadata": {},
   "source": [
    "4. Queremos saber el porcentaje de personas que hicieron clic en los anuncios de cada `utm_source`.\n",
    "Comience agrupando por `utm_source` e `is_click` y contando el número de `user_id`'s en cada uno de esos grupos. Guarde su respuesta en la variable `clicks_by_source`."
   ]
  },
  {
   "cell_type": "code",
   "execution_count": 35,
   "metadata": {},
   "outputs": [
    {
     "data": {
      "text/html": [
       "<div>\n",
       "<style scoped>\n",
       "    .dataframe tbody tr th:only-of-type {\n",
       "        vertical-align: middle;\n",
       "    }\n",
       "\n",
       "    .dataframe tbody tr th {\n",
       "        vertical-align: top;\n",
       "    }\n",
       "\n",
       "    .dataframe thead th {\n",
       "        text-align: right;\n",
       "    }\n",
       "</style>\n",
       "<table border=\"1\" class=\"dataframe\">\n",
       "  <thead>\n",
       "    <tr style=\"text-align: right;\">\n",
       "      <th></th>\n",
       "      <th>utm_source</th>\n",
       "      <th>is_click</th>\n",
       "      <th>user_id</th>\n",
       "    </tr>\n",
       "  </thead>\n",
       "  <tbody>\n",
       "    <tr>\n",
       "      <th>0</th>\n",
       "      <td>email</td>\n",
       "      <td>False</td>\n",
       "      <td>80</td>\n",
       "    </tr>\n",
       "    <tr>\n",
       "      <th>1</th>\n",
       "      <td>email</td>\n",
       "      <td>True</td>\n",
       "      <td>175</td>\n",
       "    </tr>\n",
       "    <tr>\n",
       "      <th>2</th>\n",
       "      <td>facebook</td>\n",
       "      <td>False</td>\n",
       "      <td>180</td>\n",
       "    </tr>\n",
       "    <tr>\n",
       "      <th>3</th>\n",
       "      <td>facebook</td>\n",
       "      <td>True</td>\n",
       "      <td>324</td>\n",
       "    </tr>\n",
       "    <tr>\n",
       "      <th>4</th>\n",
       "      <td>google</td>\n",
       "      <td>False</td>\n",
       "      <td>239</td>\n",
       "    </tr>\n",
       "    <tr>\n",
       "      <th>5</th>\n",
       "      <td>google</td>\n",
       "      <td>True</td>\n",
       "      <td>441</td>\n",
       "    </tr>\n",
       "    <tr>\n",
       "      <th>6</th>\n",
       "      <td>twitter</td>\n",
       "      <td>False</td>\n",
       "      <td>66</td>\n",
       "    </tr>\n",
       "    <tr>\n",
       "      <th>7</th>\n",
       "      <td>twitter</td>\n",
       "      <td>True</td>\n",
       "      <td>149</td>\n",
       "    </tr>\n",
       "  </tbody>\n",
       "</table>\n",
       "</div>"
      ],
      "text/plain": [
       "  utm_source  is_click  user_id\n",
       "0      email     False       80\n",
       "1      email      True      175\n",
       "2   facebook     False      180\n",
       "3   facebook      True      324\n",
       "4     google     False      239\n",
       "5     google      True      441\n",
       "6    twitter     False       66\n",
       "7    twitter      True      149"
      ]
     },
     "execution_count": 35,
     "metadata": {},
     "output_type": "execute_result"
    }
   ],
   "source": [
    "clicks_by_source = clicks.groupby(['utm_source', 'is_click']).user_id.count().reset_index()\n",
    "clicks_by_source"
   ]
  },
  {
   "cell_type": "markdown",
   "metadata": {},
   "source": [
    "5. Ahora vamos a pivotar los datos para que las columnas sean `is_click` (`True` o `False`), el índice sea `utm_source`, y los valores sean `user_id`.\n",
    "Guarde sus resultados en el variable `clicks_pivot`."
   ]
  },
  {
   "cell_type": "code",
   "execution_count": 36,
   "metadata": {},
   "outputs": [
    {
     "data": {
      "text/html": [
       "<div>\n",
       "<style scoped>\n",
       "    .dataframe tbody tr th:only-of-type {\n",
       "        vertical-align: middle;\n",
       "    }\n",
       "\n",
       "    .dataframe tbody tr th {\n",
       "        vertical-align: top;\n",
       "    }\n",
       "\n",
       "    .dataframe thead th {\n",
       "        text-align: right;\n",
       "    }\n",
       "</style>\n",
       "<table border=\"1\" class=\"dataframe\">\n",
       "  <thead>\n",
       "    <tr style=\"text-align: right;\">\n",
       "      <th>is_click</th>\n",
       "      <th>utm_source</th>\n",
       "      <th>False</th>\n",
       "      <th>True</th>\n",
       "    </tr>\n",
       "  </thead>\n",
       "  <tbody>\n",
       "    <tr>\n",
       "      <th>0</th>\n",
       "      <td>email</td>\n",
       "      <td>80</td>\n",
       "      <td>175</td>\n",
       "    </tr>\n",
       "    <tr>\n",
       "      <th>1</th>\n",
       "      <td>facebook</td>\n",
       "      <td>180</td>\n",
       "      <td>324</td>\n",
       "    </tr>\n",
       "    <tr>\n",
       "      <th>2</th>\n",
       "      <td>google</td>\n",
       "      <td>239</td>\n",
       "      <td>441</td>\n",
       "    </tr>\n",
       "    <tr>\n",
       "      <th>3</th>\n",
       "      <td>twitter</td>\n",
       "      <td>66</td>\n",
       "      <td>149</td>\n",
       "    </tr>\n",
       "  </tbody>\n",
       "</table>\n",
       "</div>"
      ],
      "text/plain": [
       "is_click utm_source  False  True\n",
       "0             email     80   175\n",
       "1          facebook    180   324\n",
       "2            google    239   441\n",
       "3           twitter     66   149"
      ]
     },
     "execution_count": 36,
     "metadata": {},
     "output_type": "execute_result"
    }
   ],
   "source": [
    "clicks_pivot = clicks_by_source.pivot(columns='is_click', index='utm_source', values='user_id').reset_index()\n",
    "clicks_pivot"
   ]
  },
  {
   "cell_type": "markdown",
   "metadata": {},
   "source": [
    "6. Cree una nueva columna en `clicks_pivot` llamada `percent_clicked`, que es igual al porcentaje de usuarios que han hecho clic en el anuncio desde cada `utm_source.\n",
    "¿Hubo alguna diferencia en las tasas de clics para cada fuente?"
   ]
  },
  {
   "cell_type": "code",
   "execution_count": 37,
   "metadata": {},
   "outputs": [
    {
     "data": {
      "text/html": [
       "<div>\n",
       "<style scoped>\n",
       "    .dataframe tbody tr th:only-of-type {\n",
       "        vertical-align: middle;\n",
       "    }\n",
       "\n",
       "    .dataframe tbody tr th {\n",
       "        vertical-align: top;\n",
       "    }\n",
       "\n",
       "    .dataframe thead th {\n",
       "        text-align: right;\n",
       "    }\n",
       "</style>\n",
       "<table border=\"1\" class=\"dataframe\">\n",
       "  <thead>\n",
       "    <tr style=\"text-align: right;\">\n",
       "      <th>is_click</th>\n",
       "      <th>utm_source</th>\n",
       "      <th>False</th>\n",
       "      <th>True</th>\n",
       "      <th>percent_clicked</th>\n",
       "    </tr>\n",
       "  </thead>\n",
       "  <tbody>\n",
       "    <tr>\n",
       "      <th>0</th>\n",
       "      <td>email</td>\n",
       "      <td>80</td>\n",
       "      <td>175</td>\n",
       "      <td>0.686275</td>\n",
       "    </tr>\n",
       "    <tr>\n",
       "      <th>1</th>\n",
       "      <td>facebook</td>\n",
       "      <td>180</td>\n",
       "      <td>324</td>\n",
       "      <td>0.642857</td>\n",
       "    </tr>\n",
       "    <tr>\n",
       "      <th>2</th>\n",
       "      <td>google</td>\n",
       "      <td>239</td>\n",
       "      <td>441</td>\n",
       "      <td>0.648529</td>\n",
       "    </tr>\n",
       "    <tr>\n",
       "      <th>3</th>\n",
       "      <td>twitter</td>\n",
       "      <td>66</td>\n",
       "      <td>149</td>\n",
       "      <td>0.693023</td>\n",
       "    </tr>\n",
       "  </tbody>\n",
       "</table>\n",
       "</div>"
      ],
      "text/plain": [
       "is_click utm_source  False  True  percent_clicked\n",
       "0             email     80   175         0.686275\n",
       "1          facebook    180   324         0.642857\n",
       "2            google    239   441         0.648529\n",
       "3           twitter     66   149         0.693023"
      ]
     },
     "execution_count": 37,
     "metadata": {},
     "output_type": "execute_result"
    }
   ],
   "source": [
    "clicks_pivot['percent_clicked'] = clicks_pivot[True]/(clicks_pivot[True]+clicks_pivot[False])\n",
    "clicks_pivot"
   ]
  },
  {
   "cell_type": "markdown",
   "metadata": {},
   "source": [
    "### Analizar una A/B Testing"
   ]
  },
  {
   "cell_type": "markdown",
   "metadata": {},
   "source": [
    "7. La columna `experimental_group` nos dice si al usuario le fue mostrado el anuncio A o anuncio B.\n",
    "¿Se mostró aproximadamente al mismo número de personas en ambos anuncios?"
   ]
  },
  {
   "cell_type": "code",
   "execution_count": 16,
   "metadata": {},
   "outputs": [
    {
     "data": {
      "text/html": [
       "<div>\n",
       "<style scoped>\n",
       "    .dataframe tbody tr th:only-of-type {\n",
       "        vertical-align: middle;\n",
       "    }\n",
       "\n",
       "    .dataframe tbody tr th {\n",
       "        vertical-align: top;\n",
       "    }\n",
       "\n",
       "    .dataframe thead th {\n",
       "        text-align: right;\n",
       "    }\n",
       "</style>\n",
       "<table border=\"1\" class=\"dataframe\">\n",
       "  <thead>\n",
       "    <tr style=\"text-align: right;\">\n",
       "      <th></th>\n",
       "      <th>experimental_group</th>\n",
       "      <th>user_id</th>\n",
       "    </tr>\n",
       "  </thead>\n",
       "  <tbody>\n",
       "    <tr>\n",
       "      <th>0</th>\n",
       "      <td>A</td>\n",
       "      <td>827</td>\n",
       "    </tr>\n",
       "    <tr>\n",
       "      <th>1</th>\n",
       "      <td>B</td>\n",
       "      <td>827</td>\n",
       "    </tr>\n",
       "  </tbody>\n",
       "</table>\n",
       "</div>"
      ],
      "text/plain": [
       "  experimental_group  user_id\n",
       "0                  A      827\n",
       "1                  B      827"
      ]
     },
     "execution_count": 16,
     "metadata": {},
     "output_type": "execute_result"
    }
   ],
   "source": [
    "exp_count = clicks.groupby('experimental_group').user_id.count().reset_index()\n",
    "exp_count"
   ]
  },
  {
   "cell_type": "markdown",
   "metadata": {},
   "source": [
    "8. Usando la columna `is_click` que definimos anteriormente, comprobar si un mayor porcentaje de usuarios han hecho clic en Ad A o Ad B."
   ]
  },
  {
   "cell_type": "code",
   "execution_count": 25,
   "metadata": {},
   "outputs": [
    {
     "name": "stdout",
     "output_type": "stream",
     "text": [
      "is_click experimental_group  False  True\n",
      "0                         A    310   517\n",
      "1                         B    255   572\n",
      "0    0.625151\n",
      "1    0.691657\n",
      "dtype: float64\n"
     ]
    }
   ],
   "source": [
    "exp_percent_pivot = clicks.groupby(['experimental_group', 'is_click']).user_id.count().reset_index().pivot(\n",
    "    columns = 'is_click', index = 'experimental_group', values = 'user_id').reset_index()\n",
    "print(exp_percent_pivot)\n",
    "percent_exper = exp_percent_pivot[True]/(exp_percent_pivot[False]+exp_percent_pivot[True])\n",
    "print(percent_exper)"
   ]
  },
  {
   "cell_type": "markdown",
   "metadata": {},
   "source": [
    "9. El Gerente de Producto para el A/B Test piensa que los clics podrían haber cambiado en el día de la semana.\n",
    "Comience por crear dos DataFrames: `a_clicks` y `b_clicks`, que contienen sólo los resultados de grupo `A` y grupo `B`, respectivamente."
   ]
  },
  {
   "cell_type": "code",
   "execution_count": 30,
   "metadata": {},
   "outputs": [
    {
     "name": "stdout",
     "output_type": "stream",
     "text": [
      "                                   user_id utm_source            day  \\\n",
      "0     008b7c6c-7272-471e-b90e-930d548bd8d7     google   6 - Saturday   \n",
      "2     00f5d532-ed58-4570-b6d2-768df5f41aed    twitter    2 - Tuesday   \n",
      "5     013b0072-7b72-40e7-b698-98b4d0c9967f   facebook     1 - Monday   \n",
      "6     0153d85b-7660-4c39-92eb-1e1acd023280     google   4 - Thursday   \n",
      "7     01555297-d6e6-49ae-aeba-1b196fdbb09f     google  3 - Wednesday   \n",
      "...                                    ...        ...            ...   \n",
      "1643  fceb13ea-fd8c-446a-a61f-f977d404330a    twitter   6 - Saturday   \n",
      "1646  fd7d06ea-38b5-4ed9-acc9-777047db8c56     google   4 - Thursday   \n",
      "1647  fe570a20-448f-40ed-930b-8482b8a7c231   facebook     1 - Monday   \n",
      "1649  fe8b5236-78f6-4192-9da6-a76bba67cfe6    twitter     7 - Sunday   \n",
      "1652  ff3af0d6-b092-4c4d-9f2e-2bdd8f7c0732     google     1 - Monday   \n",
      "\n",
      "     ad_click_timestamp experimental_group  is_click  \n",
      "0                  7:18                  A     False  \n",
      "2                   NaN                  A      True  \n",
      "5                   NaN                  A      True  \n",
      "6                   NaN                  A      True  \n",
      "7                   NaN                  A      True  \n",
      "...                 ...                ...       ...  \n",
      "1643                NaN                  A      True  \n",
      "1646                NaN                  A      True  \n",
      "1647               20:7                  A     False  \n",
      "1649                NaN                  A      True  \n",
      "1652              22:57                  A     False  \n",
      "\n",
      "[827 rows x 6 columns]\n",
      "                                   user_id utm_source            day  \\\n",
      "1     009abb94-5e14-4b6c-bb1c-4f4df7aa7557   facebook     7 - Sunday   \n",
      "3     011adc64-0f44-4fd9-a0bb-f1506d2ad439     google    2 - Tuesday   \n",
      "4     012137e6-7ae7-4649-af68-205b4702169c   facebook     7 - Sunday   \n",
      "9     01a210c3-fde0-4e6f-8efd-4f0e38730ae6      email    2 - Tuesday   \n",
      "10    01adb2e7-f711-4ae4-a7c6-29f48457eea1     google  3 - Wednesday   \n",
      "...                                    ...        ...            ...   \n",
      "1645  fd2a5852-f0ef-4162-84a6-107a42dc46b5    twitter  3 - Wednesday   \n",
      "1648  fe6cfa5a-cc63-4770-8d56-c13ac8cf5bef     google  3 - Wednesday   \n",
      "1650  fed3db6d-8c92-40e3-a4fb-1fb9d7337eb1   facebook     5 - Friday   \n",
      "1651  ff3a22ff-521c-478c-87ca-7dc7b8f34372    twitter  3 - Wednesday   \n",
      "1653  ffdfe7ec-0c74-4623-8d90-d95d80f1ba34   facebook   6 - Saturday   \n",
      "\n",
      "     ad_click_timestamp experimental_group  is_click  \n",
      "1                   NaN                  B      True  \n",
      "3                   NaN                  B      True  \n",
      "4                   NaN                  B      True  \n",
      "9                 15:21                  B     False  \n",
      "10                  NaN                  B      True  \n",
      "...                 ...                ...       ...  \n",
      "1645                NaN                  B      True  \n",
      "1648               15:6                  B     False  \n",
      "1650                NaN                  B      True  \n",
      "1651                NaN                  B      True  \n",
      "1653                NaN                  B      True  \n",
      "\n",
      "[827 rows x 6 columns]\n"
     ]
    }
   ],
   "source": [
    "a_clicks = clicks[clicks.experimental_group == 'A']\n",
    "b_clicks = clicks[clicks.experimental_group == 'B']\n",
    "print(a_clicks)\n",
    "print(b_clicks)"
   ]
  },
  {
   "cell_type": "markdown",
   "metadata": {},
   "source": [
    "10. Para cada grupo (`a_clicks` y `b_clicks`), calcule el porcentaje de usuarios que hicieron clic en el anuncio por día."
   ]
  },
  {
   "cell_type": "code",
   "execution_count": 43,
   "metadata": {},
   "outputs": [
    {
     "data": {
      "text/html": [
       "<div>\n",
       "<style scoped>\n",
       "    .dataframe tbody tr th:only-of-type {\n",
       "        vertical-align: middle;\n",
       "    }\n",
       "\n",
       "    .dataframe tbody tr th {\n",
       "        vertical-align: top;\n",
       "    }\n",
       "\n",
       "    .dataframe thead th {\n",
       "        text-align: right;\n",
       "    }\n",
       "</style>\n",
       "<table border=\"1\" class=\"dataframe\">\n",
       "  <thead>\n",
       "    <tr style=\"text-align: right;\">\n",
       "      <th>is_click</th>\n",
       "      <th>day</th>\n",
       "      <th>False</th>\n",
       "      <th>True</th>\n",
       "      <th>percent_clicks</th>\n",
       "    </tr>\n",
       "  </thead>\n",
       "  <tbody>\n",
       "    <tr>\n",
       "      <th>0</th>\n",
       "      <td>1 - Monday</td>\n",
       "      <td>43</td>\n",
       "      <td>70</td>\n",
       "      <td>0.619469</td>\n",
       "    </tr>\n",
       "    <tr>\n",
       "      <th>1</th>\n",
       "      <td>2 - Tuesday</td>\n",
       "      <td>43</td>\n",
       "      <td>76</td>\n",
       "      <td>0.638655</td>\n",
       "    </tr>\n",
       "    <tr>\n",
       "      <th>2</th>\n",
       "      <td>3 - Wednesday</td>\n",
       "      <td>38</td>\n",
       "      <td>86</td>\n",
       "      <td>0.693548</td>\n",
       "    </tr>\n",
       "    <tr>\n",
       "      <th>3</th>\n",
       "      <td>4 - Thursday</td>\n",
       "      <td>47</td>\n",
       "      <td>69</td>\n",
       "      <td>0.594828</td>\n",
       "    </tr>\n",
       "    <tr>\n",
       "      <th>4</th>\n",
       "      <td>5 - Friday</td>\n",
       "      <td>51</td>\n",
       "      <td>77</td>\n",
       "      <td>0.601562</td>\n",
       "    </tr>\n",
       "    <tr>\n",
       "      <th>5</th>\n",
       "      <td>6 - Saturday</td>\n",
       "      <td>45</td>\n",
       "      <td>73</td>\n",
       "      <td>0.618644</td>\n",
       "    </tr>\n",
       "    <tr>\n",
       "      <th>6</th>\n",
       "      <td>7 - Sunday</td>\n",
       "      <td>43</td>\n",
       "      <td>66</td>\n",
       "      <td>0.605505</td>\n",
       "    </tr>\n",
       "  </tbody>\n",
       "</table>\n",
       "</div>"
      ],
      "text/plain": [
       "is_click            day  False  True  percent_clicks\n",
       "0            1 - Monday     43    70        0.619469\n",
       "1           2 - Tuesday     43    76        0.638655\n",
       "2         3 - Wednesday     38    86        0.693548\n",
       "3          4 - Thursday     47    69        0.594828\n",
       "4            5 - Friday     51    77        0.601562\n",
       "5          6 - Saturday     45    73        0.618644\n",
       "6            7 - Sunday     43    66        0.605505"
      ]
     },
     "execution_count": 43,
     "metadata": {},
     "output_type": "execute_result"
    }
   ],
   "source": [
    "a_clicks_count = a_clicks.groupby(['is_click', 'day']).user_id.count().reset_index().pivot(\n",
    "    columns='is_click', \n",
    "    index='day', \n",
    "    values='user_id'\n",
    ").reset_index()\n",
    "a_clicks_count['percent_clicks'] = a_clicks_count[True]/(a_clicks_count[False]+a_clicks_count[True])\n",
    "a_clicks_count"
   ]
  },
  {
   "cell_type": "code",
   "execution_count": 44,
   "metadata": {},
   "outputs": [
    {
     "data": {
      "text/html": [
       "<div>\n",
       "<style scoped>\n",
       "    .dataframe tbody tr th:only-of-type {\n",
       "        vertical-align: middle;\n",
       "    }\n",
       "\n",
       "    .dataframe tbody tr th {\n",
       "        vertical-align: top;\n",
       "    }\n",
       "\n",
       "    .dataframe thead th {\n",
       "        text-align: right;\n",
       "    }\n",
       "</style>\n",
       "<table border=\"1\" class=\"dataframe\">\n",
       "  <thead>\n",
       "    <tr style=\"text-align: right;\">\n",
       "      <th>is_click</th>\n",
       "      <th>day</th>\n",
       "      <th>False</th>\n",
       "      <th>True</th>\n",
       "      <th>percent_clicks</th>\n",
       "    </tr>\n",
       "  </thead>\n",
       "  <tbody>\n",
       "    <tr>\n",
       "      <th>0</th>\n",
       "      <td>1 - Monday</td>\n",
       "      <td>32</td>\n",
       "      <td>81</td>\n",
       "      <td>0.716814</td>\n",
       "    </tr>\n",
       "    <tr>\n",
       "      <th>1</th>\n",
       "      <td>2 - Tuesday</td>\n",
       "      <td>45</td>\n",
       "      <td>74</td>\n",
       "      <td>0.621849</td>\n",
       "    </tr>\n",
       "    <tr>\n",
       "      <th>2</th>\n",
       "      <td>3 - Wednesday</td>\n",
       "      <td>35</td>\n",
       "      <td>89</td>\n",
       "      <td>0.717742</td>\n",
       "    </tr>\n",
       "    <tr>\n",
       "      <th>3</th>\n",
       "      <td>4 - Thursday</td>\n",
       "      <td>29</td>\n",
       "      <td>87</td>\n",
       "      <td>0.750000</td>\n",
       "    </tr>\n",
       "    <tr>\n",
       "      <th>4</th>\n",
       "      <td>5 - Friday</td>\n",
       "      <td>38</td>\n",
       "      <td>90</td>\n",
       "      <td>0.703125</td>\n",
       "    </tr>\n",
       "    <tr>\n",
       "      <th>5</th>\n",
       "      <td>6 - Saturday</td>\n",
       "      <td>42</td>\n",
       "      <td>76</td>\n",
       "      <td>0.644068</td>\n",
       "    </tr>\n",
       "    <tr>\n",
       "      <th>6</th>\n",
       "      <td>7 - Sunday</td>\n",
       "      <td>34</td>\n",
       "      <td>75</td>\n",
       "      <td>0.688073</td>\n",
       "    </tr>\n",
       "  </tbody>\n",
       "</table>\n",
       "</div>"
      ],
      "text/plain": [
       "is_click            day  False  True  percent_clicks\n",
       "0            1 - Monday     32    81        0.716814\n",
       "1           2 - Tuesday     45    74        0.621849\n",
       "2         3 - Wednesday     35    89        0.717742\n",
       "3          4 - Thursday     29    87        0.750000\n",
       "4            5 - Friday     38    90        0.703125\n",
       "5          6 - Saturday     42    76        0.644068\n",
       "6            7 - Sunday     34    75        0.688073"
      ]
     },
     "execution_count": 44,
     "metadata": {},
     "output_type": "execute_result"
    }
   ],
   "source": [
    "b_clicks_count = b_clicks.groupby(['is_click', 'day']).user_id.count().reset_index().pivot(\n",
    "    columns='is_click', \n",
    "    index='day', \n",
    "    values='user_id'\n",
    ").reset_index()\n",
    "b_clicks_count['percent_clicks'] = b_clicks_count[True]/(b_clicks_count[False]+b_clicks_count[True])\n",
    "b_clicks_count"
   ]
  },
  {
   "cell_type": "markdown",
   "metadata": {},
   "source": [
    "11. Compare los resultados de `A` y `B`. ¿Qué pasó en el transcurso de la semana?\n",
    "¿Recomienda que su empresa utilice el anuncio `A` o el anuncio `B`?"
   ]
  },
  {
   "cell_type": "code",
   "execution_count": 55,
   "metadata": {},
   "outputs": [
    {
     "data": {
      "text/plain": [
       "'Ad b'"
      ]
     },
     "execution_count": 55,
     "metadata": {},
     "output_type": "execute_result"
    }
   ],
   "source": [
    "Mejor =  'Ad a' if (a_clicks_count.percent_clicks.mean() > b_clicks_count.percent_clicks.mean()) else 'Ad b'\n",
    "Mejor"
   ]
  },
  {
   "cell_type": "code",
   "execution_count": null,
   "metadata": {},
   "outputs": [],
   "source": [
    "recommend = \"ad A\""
   ]
  }
 ],
 "metadata": {
  "kernelspec": {
   "display_name": "Python 3",
   "language": "python",
   "name": "python3"
  },
  "language_info": {
   "codemirror_mode": {
    "name": "ipython",
    "version": 3
   },
   "file_extension": ".py",
   "mimetype": "text/x-python",
   "name": "python",
   "nbconvert_exporter": "python",
   "pygments_lexer": "ipython3",
   "version": "3.9.0"
  }
 },
 "nbformat": 4,
 "nbformat_minor": 2
}
