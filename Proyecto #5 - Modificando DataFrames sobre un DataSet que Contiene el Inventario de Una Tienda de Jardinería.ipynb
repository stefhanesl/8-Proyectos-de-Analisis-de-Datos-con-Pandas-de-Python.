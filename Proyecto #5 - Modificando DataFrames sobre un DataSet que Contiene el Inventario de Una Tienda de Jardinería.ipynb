{
 "cells": [
  {
   "cell_type": "markdown",
   "metadata": {},
   "source": [
    "# Proyecto #5 - Modificando DataFrames sobre un DataSet que Contiene el Inventario de Una Tienda de Jardinería"
   ]
  },
  {
   "cell_type": "markdown",
   "metadata": {},
   "source": [
    "Eres el principal analista de datos de una cadena de tiendas de jardinería llamada Petal Power. Ayúdeles a analizar su inventario!"
   ]
  },
  {
   "cell_type": "markdown",
   "metadata": {},
   "source": [
    "1. Los datos de todas las ubicaciones de Petal Power están en el archivo `inventory.csv`. Cargue los datos en un DataFrame llamado `inventory`"
   ]
  },
  {
   "cell_type": "code",
   "execution_count": 5,
   "metadata": {},
   "outputs": [],
   "source": [
    "import pandas as pd\n",
    "inventory = pd.read_csv('inventory.csv')"
   ]
  },
  {
   "cell_type": "markdown",
   "metadata": {},
   "source": [
    "2. Inspeccione las primeras 10 filas del inventario"
   ]
  },
  {
   "cell_type": "code",
   "execution_count": 6,
   "metadata": {},
   "outputs": [
    {
     "data": {
      "text/html": [
       "<div>\n",
       "<style scoped>\n",
       "    .dataframe tbody tr th:only-of-type {\n",
       "        vertical-align: middle;\n",
       "    }\n",
       "\n",
       "    .dataframe tbody tr th {\n",
       "        vertical-align: top;\n",
       "    }\n",
       "\n",
       "    .dataframe thead th {\n",
       "        text-align: right;\n",
       "    }\n",
       "</style>\n",
       "<table border=\"1\" class=\"dataframe\">\n",
       "  <thead>\n",
       "    <tr style=\"text-align: right;\">\n",
       "      <th></th>\n",
       "      <th>location</th>\n",
       "      <th>product_type</th>\n",
       "      <th>product_description</th>\n",
       "      <th>quantity</th>\n",
       "      <th>price</th>\n",
       "    </tr>\n",
       "  </thead>\n",
       "  <tbody>\n",
       "    <tr>\n",
       "      <th>0</th>\n",
       "      <td>Staten Island</td>\n",
       "      <td>seeds</td>\n",
       "      <td>daisy</td>\n",
       "      <td>4</td>\n",
       "      <td>6.99</td>\n",
       "    </tr>\n",
       "    <tr>\n",
       "      <th>1</th>\n",
       "      <td>Staten Island</td>\n",
       "      <td>seeds</td>\n",
       "      <td>calla lily</td>\n",
       "      <td>46</td>\n",
       "      <td>19.99</td>\n",
       "    </tr>\n",
       "    <tr>\n",
       "      <th>2</th>\n",
       "      <td>Staten Island</td>\n",
       "      <td>seeds</td>\n",
       "      <td>tomato</td>\n",
       "      <td>85</td>\n",
       "      <td>13.99</td>\n",
       "    </tr>\n",
       "    <tr>\n",
       "      <th>3</th>\n",
       "      <td>Staten Island</td>\n",
       "      <td>garden tools</td>\n",
       "      <td>rake</td>\n",
       "      <td>4</td>\n",
       "      <td>13.99</td>\n",
       "    </tr>\n",
       "    <tr>\n",
       "      <th>4</th>\n",
       "      <td>Staten Island</td>\n",
       "      <td>garden tools</td>\n",
       "      <td>wheelbarrow</td>\n",
       "      <td>0</td>\n",
       "      <td>89.99</td>\n",
       "    </tr>\n",
       "    <tr>\n",
       "      <th>5</th>\n",
       "      <td>Staten Island</td>\n",
       "      <td>garden tools</td>\n",
       "      <td>spade</td>\n",
       "      <td>93</td>\n",
       "      <td>19.99</td>\n",
       "    </tr>\n",
       "    <tr>\n",
       "      <th>6</th>\n",
       "      <td>Staten Island</td>\n",
       "      <td>pest_control</td>\n",
       "      <td>insect killer</td>\n",
       "      <td>74</td>\n",
       "      <td>12.99</td>\n",
       "    </tr>\n",
       "    <tr>\n",
       "      <th>7</th>\n",
       "      <td>Staten Island</td>\n",
       "      <td>pest_control</td>\n",
       "      <td>weed killer</td>\n",
       "      <td>8</td>\n",
       "      <td>23.99</td>\n",
       "    </tr>\n",
       "    <tr>\n",
       "      <th>8</th>\n",
       "      <td>Staten Island</td>\n",
       "      <td>planter</td>\n",
       "      <td>20 inch terracotta planter</td>\n",
       "      <td>0</td>\n",
       "      <td>17.99</td>\n",
       "    </tr>\n",
       "    <tr>\n",
       "      <th>9</th>\n",
       "      <td>Staten Island</td>\n",
       "      <td>planter</td>\n",
       "      <td>8 inch plastic planter</td>\n",
       "      <td>53</td>\n",
       "      <td>3.99</td>\n",
       "    </tr>\n",
       "  </tbody>\n",
       "</table>\n",
       "</div>"
      ],
      "text/plain": [
       "        location  product_type         product_description  quantity  price\n",
       "0  Staten Island         seeds                       daisy         4   6.99\n",
       "1  Staten Island         seeds                  calla lily        46  19.99\n",
       "2  Staten Island         seeds                      tomato        85  13.99\n",
       "3  Staten Island  garden tools                        rake         4  13.99\n",
       "4  Staten Island  garden tools                 wheelbarrow         0  89.99\n",
       "5  Staten Island  garden tools                       spade        93  19.99\n",
       "6  Staten Island  pest_control               insect killer        74  12.99\n",
       "7  Staten Island  pest_control                 weed killer         8  23.99\n",
       "8  Staten Island       planter  20 inch terracotta planter         0  17.99\n",
       "9  Staten Island       planter      8 inch plastic planter        53   3.99"
      ]
     },
     "execution_count": 6,
     "metadata": {},
     "output_type": "execute_result"
    }
   ],
   "source": [
    "inventory.iloc[:10]"
   ]
  },
  {
   "cell_type": "markdown",
   "metadata": {},
   "source": [
    "3.Las primeras 10 filas representan datos de su ubicación en Staten Island. Seleccione estas líneas y grábelas en `staten_island`."
   ]
  },
  {
   "cell_type": "code",
   "execution_count": 7,
   "metadata": {},
   "outputs": [
    {
     "name": "stdout",
     "output_type": "stream",
     "text": [
      "Empty DataFrame\n",
      "Columns: [location, product_type, product_description, quantity, price]\n",
      "Index: []\n"
     ]
    }
   ],
   "source": [
    "staten_island = inventory[inventory['location'] == 'Staten Islam']\n",
    "print(staten_island)"
   ]
  },
  {
   "cell_type": "markdown",
   "metadata": {},
   "source": [
    "4.Un cliente acaba de enviarle un correo electrónico preguntándole qué productos se venden en su localidad de Staten Island. Seleccione la columna `product_description` de `staten_island` y guárdela en la variable `product_request`."
   ]
  },
  {
   "cell_type": "code",
   "execution_count": 8,
   "metadata": {},
   "outputs": [
    {
     "name": "stdout",
     "output_type": "stream",
     "text": [
      "Series([], Name: product_description, dtype: object)\n"
     ]
    }
   ],
   "source": [
    "product_request = staten_island['product_description']\n",
    "print(product_request)"
   ]
  },
  {
   "cell_type": "markdown",
   "metadata": {},
   "source": [
    "5.Otro cliente envía un correo electrónico para preguntar qué tipos de semillas se venden en la sede de Brooklyn.\n",
    "Seleccione todas las filas donde la `location` es igual a `Brooklyn` y el `product_type` es igual a las semillas `seeds` y guárdelas en la variable `seed_request`."
   ]
  },
  {
   "cell_type": "code",
   "execution_count": 13,
   "metadata": {},
   "outputs": [
    {
     "name": "stdout",
     "output_type": "stream",
     "text": [
      "    location product_type product_description  quantity  price\n",
      "10  Brooklyn        seeds               daisy        50   6.99\n",
      "11  Brooklyn        seeds          calla lily         0  19.99\n",
      "12  Brooklyn        seeds              tomato         0  13.99\n"
     ]
    }
   ],
   "source": [
    "seed_request = inventory[(inventory['location'] == 'Brooklyn') & (inventory['product_type'] == 'seeds')]\n",
    "print(seed_request)"
   ]
  },
  {
   "cell_type": "markdown",
   "metadata": {},
   "source": [
    "6.Añada una columna a un inventario `inventory` llamado `in_stock` que sea `True` si `quantity` es mayor que 0 y `False` if `quantity` es igual a 0."
   ]
  },
  {
   "cell_type": "code",
   "execution_count": 19,
   "metadata": {},
   "outputs": [
    {
     "name": "stdout",
     "output_type": "stream",
     "text": [
      "        location  product_type product_description  quantity  price  in_stock\n",
      "0  Staten Island         seeds               daisy         4   6.99      True\n",
      "1  Staten Island         seeds          calla lily        46  19.99      True\n",
      "2  Staten Island         seeds              tomato        85  13.99      True\n",
      "3  Staten Island  garden tools                rake         4  13.99      True\n",
      "4  Staten Island  garden tools         wheelbarrow         0  89.99     False\n"
     ]
    }
   ],
   "source": [
    "inventory['in_stock'] = inventory.apply(\n",
    "    lambda row: True if row['quantity'] > 0 else False,\n",
    "    axis=1\n",
    ")\n",
    "print(inventory.head())"
   ]
  },
  {
   "cell_type": "markdown",
   "metadata": {},
   "source": [
    "7.Petal Power quiere saber cuán valioso es su inventario actual.\n",
    "Cree una columna llamada `total_value` que sea igual a `price` multiplicado por `quantity`."
   ]
  },
  {
   "cell_type": "code",
   "execution_count": 21,
   "metadata": {},
   "outputs": [
    {
     "name": "stdout",
     "output_type": "stream",
     "text": [
      "        location  product_type product_description  quantity  price  in_stock  \\\n",
      "0  Staten Island         seeds               daisy         4   6.99      True   \n",
      "1  Staten Island         seeds          calla lily        46  19.99      True   \n",
      "2  Staten Island         seeds              tomato        85  13.99      True   \n",
      "3  Staten Island  garden tools                rake         4  13.99      True   \n",
      "4  Staten Island  garden tools         wheelbarrow         0  89.99     False   \n",
      "\n",
      "   total_value  \n",
      "0        27.96  \n",
      "1       919.54  \n",
      "2      1189.15  \n",
      "3        55.96  \n",
      "4         0.00  \n"
     ]
    }
   ],
   "source": [
    "inventory['total_value'] = inventory['quantity'] * inventory['price']\n",
    "print(inventory.head())"
   ]
  },
  {
   "cell_type": "markdown",
   "metadata": {},
   "source": [
    "8.El departamento de Marketing desea una descripción completa de cada producto para su catálogo.\n",
    "La siguiente función lambda combina el `product_type` y `product_description` en una sola cadena:\n",
    "\n",
    "`\n",
    "combine_lambda = lambda row: \\\n",
    "    '{} - {}'.format(row.product_type,\n",
    "                     row.product_description)\n",
    "`"
   ]
  },
  {
   "cell_type": "markdown",
   "metadata": {},
   "source": [
    "9. Utilizando `combine_lambda`, cree una nueva columna en `inventory` llamada `full_description` que contenga la descripción completa de cada producto."
   ]
  },
  {
   "cell_type": "code",
   "execution_count": 24,
   "metadata": {},
   "outputs": [],
   "source": [
    "combine_lambda = "
   ]
  },
  {
   "cell_type": "code",
   "execution_count": 27,
   "metadata": {},
   "outputs": [],
   "source": [
    "inventory['full_description'] = inventory.apply(\n",
    "    lambda row: \\\n",
    "    '{} - {}'.format(row.product_type,\n",
    "                     row.product_description),\n",
    "    axis=1\n",
    ")"
   ]
  },
  {
   "cell_type": "code",
   "execution_count": 28,
   "metadata": {},
   "outputs": [
    {
     "name": "stdout",
     "output_type": "stream",
     "text": [
      "        location  product_type product_description  quantity  price  in_stock  \\\n",
      "0  Staten Island         seeds               daisy         4   6.99      True   \n",
      "1  Staten Island         seeds          calla lily        46  19.99      True   \n",
      "2  Staten Island         seeds              tomato        85  13.99      True   \n",
      "3  Staten Island  garden tools                rake         4  13.99      True   \n",
      "4  Staten Island  garden tools         wheelbarrow         0  89.99     False   \n",
      "\n",
      "   total_value            full_description  \n",
      "0        27.96               seeds - daisy  \n",
      "1       919.54          seeds - calla lily  \n",
      "2      1189.15              seeds - tomato  \n",
      "3        55.96         garden tools - rake  \n",
      "4         0.00  garden tools - wheelbarrow  \n"
     ]
    }
   ],
   "source": [
    "print(inventory.head())"
   ]
  },
  {
   "cell_type": "code",
   "execution_count": null,
   "metadata": {},
   "outputs": [],
   "source": []
  }
 ],
 "metadata": {
  "kernelspec": {
   "display_name": "Python 3",
   "language": "python",
   "name": "python3"
  },
  "language_info": {
   "codemirror_mode": {
    "name": "ipython",
    "version": 3
   },
   "file_extension": ".py",
   "mimetype": "text/x-python",
   "name": "python",
   "nbconvert_exporter": "python",
   "pygments_lexer": "ipython3",
   "version": "3.9.0"
  }
 },
 "nbformat": 4,
 "nbformat_minor": 2
}
